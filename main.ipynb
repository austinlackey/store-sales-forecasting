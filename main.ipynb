{
 "cells": [
  {
   "cell_type": "code",
   "execution_count": 3,
   "metadata": {},
   "outputs": [],
   "source": [
    "# Importing the libraries\n",
    "import pandas as pd\n",
    "import numpy as np"
   ]
  },
  {
   "cell_type": "code",
   "execution_count": 4,
   "metadata": {},
   "outputs": [],
   "source": [
    "# Since the data is over 100MB, download the csv files from Kaggle and put them in a subfolder called 'Data' in the same directory as this notebook.\n",
    "# The Data folder is listed in the .gitignore file so only files outside of the Data folder will be pushed to GitHub.\n",
    "holidays_events = pd.read_csv('Data/holidays_events.csv')\n",
    "oil = pd.read_csv('Data/oil.csv')\n",
    "sample_submission = pd.read_csv('Data/sample_submission.csv')\n",
    "stores = pd.read_csv('Data/stores.csv')\n",
    "test = pd.read_csv('Data/test.csv')\n",
    "train = pd.read_csv('Data/train.csv')\n",
    "transactions = pd.read_csv('Data/transactions.csv')"
   ]
  }
 ],
 "metadata": {
  "kernelspec": {
   "display_name": "main",
   "language": "python",
   "name": "python3"
  },
  "language_info": {
   "codemirror_mode": {
    "name": "ipython",
    "version": 3
   },
   "file_extension": ".py",
   "mimetype": "text/x-python",
   "name": "python",
   "nbconvert_exporter": "python",
   "pygments_lexer": "ipython3",
   "version": "3.11.5"
  }
 },
 "nbformat": 4,
 "nbformat_minor": 2
}
